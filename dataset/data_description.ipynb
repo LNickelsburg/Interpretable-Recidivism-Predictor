{
 "cells": [
  {
   "cell_type": "markdown",
   "metadata": {},
   "source": [
    "### **Data Description**"
   ]
  },
  {
   "cell_type": "markdown",
   "metadata": {},
   "source": [
    "**Imports**"
   ]
  },
  {
   "cell_type": "code",
   "execution_count": 12,
   "metadata": {},
   "outputs": [],
   "source": [
    "import pandas as pd\n",
    "from sklearn.model_selection import train_test_split"
   ]
  },
  {
   "cell_type": "markdown",
   "metadata": {},
   "source": [
    "**Load raw dataset**"
   ]
  },
  {
   "cell_type": "code",
   "execution_count": 21,
   "metadata": {},
   "outputs": [],
   "source": [
    "dataset = pd.read_csv(\"broward_data.csv\")"
   ]
  },
  {
   "cell_type": "markdown",
   "metadata": {},
   "source": [
    "**Check data for any glaring issues**"
   ]
  },
  {
   "cell_type": "code",
   "execution_count": 43,
   "metadata": {},
   "outputs": [
    {
     "name": "stdout",
     "output_type": "stream",
     "text": [
      "Percentage of the data missing: 0.0%\n",
      "\n"
     ]
    }
   ],
   "source": [
    "### MISSING DATA ###\n",
    "# is any data missing? \n",
    "missing_vals = dataset.isna().sum().sum()           #num missing values\n",
    "total_vals = dataset.shape[0] * dataset.shape[1]    #total num values\n",
    "pct_missing = (missing_vals / total_vals) * 100     #percent of the data missing\n",
    "print(f\"Percentage of the data missing: {pct_missing}%\\n\")\n",
    "\n",
    "### DUPLICATES ###\n",
    "#if any person is in the dataset twice, the duplicate will be removed\n",
    "dataset.drop_duplicates(subset=[dataset.columns[0]], inplace=True)\n",
    "\n",
    "### INCORRECT DATA TYPES ###\n",
    "#make sure these look correct\n",
    "data_types = dataset.dtypes\n",
    "#print(data_types)"
   ]
  },
  {
   "cell_type": "markdown",
   "metadata": {},
   "source": [
    "**Preliminary Analysis**"
   ]
  },
  {
   "cell_type": "code",
   "execution_count": 15,
   "metadata": {},
   "outputs": [],
   "source": [
    "### HISTOGRAMS ###\n",
    "\n",
    "\n",
    "### SCATTER PLOTS ###\n",
    "\n",
    "\n",
    "### ROC CURVES ###\n",
    "\n",
    "\n",
    "### DIMENSIONALITY REDUCTION ###\n",
    "\n",
    "\n",
    "### CLUSTERING ALGORITHMS ###"
   ]
  },
  {
   "cell_type": "markdown",
   "metadata": {},
   "source": [
    "**Split into test and training**"
   ]
  },
  {
   "cell_type": "code",
   "execution_count": 16,
   "metadata": {},
   "outputs": [],
   "source": [
    "### IDENTIFY FEATURES AND TARGETS ###\n",
    "\n",
    "features = [\"person_id\",\"screening_date\",\"sex\",\"race\",\"age_at_current_charge\",\n",
    "            \"age_at_first_charge\",\"p_charges\",\"p_incarceration\",\"p_probation\",\n",
    "            \"p_juv_fel_count\",\"p_felprop_viol\",\"p_murder\",\"p_felassault\",\n",
    "            \"p_misdeassault\",\"p_famviol\",\"p_sex_offense\",\"p_weapon\",\"p_fta_two_year\",\n",
    "            \"p_fta_two_year_plus\",\"current_violence\",\"current_violence20\",\n",
    "            \"p_pending_charge\",\"p_felony\",\"p_misdemeanor\",\"p_violence\",\n",
    "            \"total_convictions\",\"p_arrest\",\"p_property\",\"p_traffic\",\"p_drug\",\"p_dui\",\n",
    "            \"p_domestic\",\"p_stalking\",\"p_voyeurism\",\"p_fraud\",\"p_stealing\",\"p_trespass\",\n",
    "            \"six_month\",\"one_year\",\"three_year\",\"five_year\"]\n",
    "targets = [\"general_two_year\",\"general_six_month\",\"drug_two_year\",\"property_two_year\",\n",
    "           \"misdemeanor_two_year\",\"felony_two_year\",\"violent_two_year\",\"drug_six_month\",\n",
    "           \"property_six_month\",\"misdemeanor_six_month\",\"felony_six_month\",\n",
    "           \"violent_six_month\"]\n",
    "\n",
    "X = broward_dataset[features]   # feature values for all rows in raw dataset\n",
    "y = broward_dataset[targets]    # target values for all rows in raw dataset\n",
    "\n",
    "\n",
    "### SPLIT INTO TRAIN AND TEST SETS ###\n",
    "X_train, X_test, y_train, y_test = train_test_split(X, y, test_size=0.2, random_state=42)"
   ]
  },
  {
   "cell_type": "markdown",
   "metadata": {},
   "source": [
    "**Normalize/Standardize?**"
   ]
  }
 ],
 "metadata": {
  "kernelspec": {
   "display_name": "Python 3",
   "language": "python",
   "name": "python3"
  },
  "language_info": {
   "codemirror_mode": {
    "name": "ipython",
    "version": 3
   },
   "file_extension": ".py",
   "mimetype": "text/x-python",
   "name": "python",
   "nbconvert_exporter": "python",
   "pygments_lexer": "ipython3",
   "version": "3.11.4"
  }
 },
 "nbformat": 4,
 "nbformat_minor": 2
}
