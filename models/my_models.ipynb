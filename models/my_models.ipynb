{
 "cells": [
  {
   "cell_type": "markdown",
   "metadata": {},
   "source": [
    "### **Imports** ###"
   ]
  },
  {
   "cell_type": "code",
   "execution_count": 27,
   "metadata": {},
   "outputs": [],
   "source": [
    "import pandas as pd\n",
    "\n",
    "import xgboost as xgb\n",
    "\n",
    "\n",
    "from interpret.glassbox import ExplainableBoostingClassifier\n",
    "from sklearn.metrics import precision_score,accuracy_score,roc_auc_score\n",
    "from sklearn.model_selection import GridSearchCV\n",
    "from sklearn.tree import DecisionTreeClassifier\n",
    "from sklearn.svm import LinearSVC"
   ]
  },
  {
   "cell_type": "markdown",
   "metadata": {},
   "source": [
    "### **Training and Test Sets** ###"
   ]
  },
  {
   "cell_type": "code",
   "execution_count": 28,
   "metadata": {},
   "outputs": [],
   "source": [
    "training_set = pd.read_csv('../dataset/standardized_training.csv')\n",
    "X_train = training_set.drop('general_two_year', axis=1)\n",
    "y_train = training_set['general_two_year'].values\n",
    "\n",
    "test_set = pd.read_csv('../dataset/standardized_testing.csv')\n",
    "X_test = test_set.drop('general_two_year', axis=1)\n",
    "y_test = test_set['general_two_year'].values\n"
   ]
  },
  {
   "cell_type": "markdown",
   "metadata": {},
   "source": [
    "## **CART** "
   ]
  },
  {
   "cell_type": "markdown",
   "metadata": {},
   "source": [
    "#### **Hyperparameter Tuning**"
   ]
  },
  {
   "cell_type": "code",
   "execution_count": 29,
   "metadata": {},
   "outputs": [
    {
     "name": "stdout",
     "output_type": "stream",
     "text": [
      "Fitting 5 folds for each of 144 candidates, totalling 720 fits\n"
     ]
    },
    {
     "data": {
      "text/html": [
       "<style>#sk-container-id-5 {color: black;}#sk-container-id-5 pre{padding: 0;}#sk-container-id-5 div.sk-toggleable {background-color: white;}#sk-container-id-5 label.sk-toggleable__label {cursor: pointer;display: block;width: 100%;margin-bottom: 0;padding: 0.3em;box-sizing: border-box;text-align: center;}#sk-container-id-5 label.sk-toggleable__label-arrow:before {content: \"▸\";float: left;margin-right: 0.25em;color: #696969;}#sk-container-id-5 label.sk-toggleable__label-arrow:hover:before {color: black;}#sk-container-id-5 div.sk-estimator:hover label.sk-toggleable__label-arrow:before {color: black;}#sk-container-id-5 div.sk-toggleable__content {max-height: 0;max-width: 0;overflow: hidden;text-align: left;background-color: #f0f8ff;}#sk-container-id-5 div.sk-toggleable__content pre {margin: 0.2em;color: black;border-radius: 0.25em;background-color: #f0f8ff;}#sk-container-id-5 input.sk-toggleable__control:checked~div.sk-toggleable__content {max-height: 200px;max-width: 100%;overflow: auto;}#sk-container-id-5 input.sk-toggleable__control:checked~label.sk-toggleable__label-arrow:before {content: \"▾\";}#sk-container-id-5 div.sk-estimator input.sk-toggleable__control:checked~label.sk-toggleable__label {background-color: #d4ebff;}#sk-container-id-5 div.sk-label input.sk-toggleable__control:checked~label.sk-toggleable__label {background-color: #d4ebff;}#sk-container-id-5 input.sk-hidden--visually {border: 0;clip: rect(1px 1px 1px 1px);clip: rect(1px, 1px, 1px, 1px);height: 1px;margin: -1px;overflow: hidden;padding: 0;position: absolute;width: 1px;}#sk-container-id-5 div.sk-estimator {font-family: monospace;background-color: #f0f8ff;border: 1px dotted black;border-radius: 0.25em;box-sizing: border-box;margin-bottom: 0.5em;}#sk-container-id-5 div.sk-estimator:hover {background-color: #d4ebff;}#sk-container-id-5 div.sk-parallel-item::after {content: \"\";width: 100%;border-bottom: 1px solid gray;flex-grow: 1;}#sk-container-id-5 div.sk-label:hover label.sk-toggleable__label {background-color: #d4ebff;}#sk-container-id-5 div.sk-serial::before {content: \"\";position: absolute;border-left: 1px solid gray;box-sizing: border-box;top: 0;bottom: 0;left: 50%;z-index: 0;}#sk-container-id-5 div.sk-serial {display: flex;flex-direction: column;align-items: center;background-color: white;padding-right: 0.2em;padding-left: 0.2em;position: relative;}#sk-container-id-5 div.sk-item {position: relative;z-index: 1;}#sk-container-id-5 div.sk-parallel {display: flex;align-items: stretch;justify-content: center;background-color: white;position: relative;}#sk-container-id-5 div.sk-item::before, #sk-container-id-5 div.sk-parallel-item::before {content: \"\";position: absolute;border-left: 1px solid gray;box-sizing: border-box;top: 0;bottom: 0;left: 50%;z-index: -1;}#sk-container-id-5 div.sk-parallel-item {display: flex;flex-direction: column;z-index: 1;position: relative;background-color: white;}#sk-container-id-5 div.sk-parallel-item:first-child::after {align-self: flex-end;width: 50%;}#sk-container-id-5 div.sk-parallel-item:last-child::after {align-self: flex-start;width: 50%;}#sk-container-id-5 div.sk-parallel-item:only-child::after {width: 0;}#sk-container-id-5 div.sk-dashed-wrapped {border: 1px dashed gray;margin: 0 0.4em 0.5em 0.4em;box-sizing: border-box;padding-bottom: 0.4em;background-color: white;}#sk-container-id-5 div.sk-label label {font-family: monospace;font-weight: bold;display: inline-block;line-height: 1.2em;}#sk-container-id-5 div.sk-label-container {text-align: center;}#sk-container-id-5 div.sk-container {/* jupyter's `normalize.less` sets `[hidden] { display: none; }` but bootstrap.min.css set `[hidden] { display: none !important; }` so we also need the `!important` here to be able to override the default hidden behavior on the sphinx rendered scikit-learn.org. See: https://github.com/scikit-learn/scikit-learn/issues/21755 */display: inline-block !important;position: relative;}#sk-container-id-5 div.sk-text-repr-fallback {display: none;}</style><div id=\"sk-container-id-5\" class=\"sk-top-container\"><div class=\"sk-text-repr-fallback\"><pre>GridSearchCV(cv=5, estimator=DecisionTreeClassifier(random_state=42), n_jobs=-1,\n",
       "             param_grid={&#x27;max_depth&#x27;: [2, 3, 4, 5],\n",
       "                         &#x27;max_leaf_nodes&#x27;: [2, 3, 4, 5],\n",
       "                         &#x27;min_samples_leaf&#x27;: [5, 50, 100],\n",
       "                         &#x27;min_samples_split&#x27;: [50, 100, 300]},\n",
       "             scoring=&#x27;f1&#x27;, verbose=2)</pre><b>In a Jupyter environment, please rerun this cell to show the HTML representation or trust the notebook. <br />On GitHub, the HTML representation is unable to render, please try loading this page with nbviewer.org.</b></div><div class=\"sk-container\" hidden><div class=\"sk-item sk-dashed-wrapped\"><div class=\"sk-label-container\"><div class=\"sk-label sk-toggleable\"><input class=\"sk-toggleable__control sk-hidden--visually\" id=\"sk-estimator-id-13\" type=\"checkbox\" ><label for=\"sk-estimator-id-13\" class=\"sk-toggleable__label sk-toggleable__label-arrow\">GridSearchCV</label><div class=\"sk-toggleable__content\"><pre>GridSearchCV(cv=5, estimator=DecisionTreeClassifier(random_state=42), n_jobs=-1,\n",
       "             param_grid={&#x27;max_depth&#x27;: [2, 3, 4, 5],\n",
       "                         &#x27;max_leaf_nodes&#x27;: [2, 3, 4, 5],\n",
       "                         &#x27;min_samples_leaf&#x27;: [5, 50, 100],\n",
       "                         &#x27;min_samples_split&#x27;: [50, 100, 300]},\n",
       "             scoring=&#x27;f1&#x27;, verbose=2)</pre></div></div></div><div class=\"sk-parallel\"><div class=\"sk-parallel-item\"><div class=\"sk-item\"><div class=\"sk-label-container\"><div class=\"sk-label sk-toggleable\"><input class=\"sk-toggleable__control sk-hidden--visually\" id=\"sk-estimator-id-14\" type=\"checkbox\" ><label for=\"sk-estimator-id-14\" class=\"sk-toggleable__label sk-toggleable__label-arrow\">estimator: DecisionTreeClassifier</label><div class=\"sk-toggleable__content\"><pre>DecisionTreeClassifier(random_state=42)</pre></div></div></div><div class=\"sk-serial\"><div class=\"sk-item\"><div class=\"sk-estimator sk-toggleable\"><input class=\"sk-toggleable__control sk-hidden--visually\" id=\"sk-estimator-id-15\" type=\"checkbox\" ><label for=\"sk-estimator-id-15\" class=\"sk-toggleable__label sk-toggleable__label-arrow\">DecisionTreeClassifier</label><div class=\"sk-toggleable__content\"><pre>DecisionTreeClassifier(random_state=42)</pre></div></div></div></div></div></div></div></div></div></div>"
      ],
      "text/plain": [
       "GridSearchCV(cv=5, estimator=DecisionTreeClassifier(random_state=42), n_jobs=-1,\n",
       "             param_grid={'max_depth': [2, 3, 4, 5],\n",
       "                         'max_leaf_nodes': [2, 3, 4, 5],\n",
       "                         'min_samples_leaf': [5, 50, 100],\n",
       "                         'min_samples_split': [50, 100, 300]},\n",
       "             scoring='f1', verbose=2)"
      ]
     },
     "execution_count": 29,
     "metadata": {},
     "output_type": "execute_result"
    }
   ],
   "source": [
    "#hyperparameter tuning \n",
    "cart = DecisionTreeClassifier(random_state=42)\n",
    "cart_param_grid = {\n",
    "    'max_depth': [2, 3, 4, 5],\n",
    "    'min_samples_split': [50, 100, 300],\n",
    "    'min_samples_leaf': [5, 50, 100],\n",
    "    'max_leaf_nodes': [2, 3, 4, 5]\n",
    "}\n",
    "\n",
    "cart_grid_search = GridSearchCV(estimator=cart, param_grid=cart_param_grid, cv=5, n_jobs=-1, verbose=2, scoring='f1')\n",
    "cart_grid_search.fit(X_train, y_train)\n",
    "\n"
   ]
  },
  {
   "cell_type": "code",
   "execution_count": 30,
   "metadata": {},
   "outputs": [
    {
     "name": "stdout",
     "output_type": "stream",
     "text": [
      "CART\n",
      "Best Hyperparameters: {'max_depth': 2, 'max_leaf_nodes': 2, 'min_samples_leaf': 5, 'min_samples_split': 50}\n",
      "accuracy:\t 0.6061381074168798\n",
      "roc auc:\t 0.5666239590006406\n",
      "precision:\t 0.5853658536585366\n"
     ]
    }
   ],
   "source": [
    "#best cart:\n",
    "best_cart = DecisionTreeClassifier(**cart_grid_search.best_params_)\n",
    "best_cart.fit(X_train, y_train)\n",
    "best_cart_pred = best_cart.predict(X_test)\n",
    "best_cart_score = precision_score(y_test, best_cart_pred)\n",
    "print(\"CART\")\n",
    "print(\"Best Hyperparameters:\", cart_grid_search.best_params_)\n",
    "print(\"accuracy:\\t\",accuracy_score(y_test, best_cart_pred))\n",
    "print(\"roc auc:\\t\",roc_auc_score(y_test, best_cart_pred))\n",
    "print(\"precision:\\t\", best_cart_score)\n",
    "\n"
   ]
  },
  {
   "cell_type": "markdown",
   "metadata": {},
   "source": [
    "## **EBM** ##"
   ]
  },
  {
   "cell_type": "markdown",
   "metadata": {},
   "source": [
    "#### **Hyperparameter Tuning**"
   ]
  },
  {
   "cell_type": "code",
   "execution_count": 31,
   "metadata": {},
   "outputs": [
    {
     "name": "stdout",
     "output_type": "stream",
     "text": [
      "Fitting 5 folds for each of 32 candidates, totalling 160 fits\n"
     ]
    },
    {
     "name": "stdout",
     "output_type": "stream",
     "text": [
      "Best Hyperparameters: {'interactions': 20, 'learning_rate': 0.01, 'max_bins': 128, 'max_interaction_bins': 32, 'min_samples_leaf': 2}\n"
     ]
    }
   ],
   "source": [
    "#hyperparameter tuning \n",
    "ebm = ExplainableBoostingClassifier(random_state=42, n_jobs=-1)\n",
    "ebm_param_grid = {\n",
    "    'learning_rate': [0.01,0.1],\n",
    "    'max_bins': [128, 256],\n",
    "    'max_interaction_bins': [16, 32],\n",
    "    'interactions': [10,20],\n",
    "    'min_samples_leaf': [2,10]\n",
    "}\n",
    "\n",
    "ebm_grid_search = GridSearchCV(estimator=ebm, param_grid=ebm_param_grid, cv=5, n_jobs=-1, verbose=2, scoring='f1')\n",
    "ebm_grid_search.fit(X_train, y_train)\n",
    "print(\"Best Hyperparameters:\", ebm_grid_search.best_params_)\n",
    "\n"
   ]
  },
  {
   "cell_type": "code",
   "execution_count": 32,
   "metadata": {},
   "outputs": [
    {
     "name": "stdout",
     "output_type": "stream",
     "text": [
      "EBM\n",
      "Best Hyperparameters: {'interactions': 20, 'learning_rate': 0.01, 'max_bins': 128, 'max_interaction_bins': 32, 'min_samples_leaf': 2}\n",
      "accuracy:\t 0.6547314578005116\n",
      "roc auc:\t 0.6429906043134743\n",
      "precision:\t 0.6064516129032258\n"
     ]
    }
   ],
   "source": [
    "#best ebm:\n",
    "best_ebm = ExplainableBoostingClassifier(**ebm_grid_search.best_params_)\n",
    "best_ebm.fit(X_train, y_train)\n",
    "best_ebm_pred = best_ebm.predict(X_test)\n",
    "best_ebm_score = precision_score(y_test, best_ebm_pred)\n",
    "\n",
    "\n",
    "\n",
    "print(\"EBM\")\n",
    "print(\"Best Hyperparameters:\", ebm_grid_search.best_params_)\n",
    "print(\"accuracy:\\t\",accuracy_score(y_test, best_ebm_pred))\n",
    "print(\"roc auc:\\t\",roc_auc_score(y_test, best_ebm_pred))\n",
    "print(\"precision:\\t\", best_ebm_score)\n",
    "\n"
   ]
  },
  {
   "cell_type": "markdown",
   "metadata": {},
   "source": [
    "## **Linear SVM** ##"
   ]
  },
  {
   "cell_type": "markdown",
   "metadata": {},
   "source": [
    "#### **Hyperparameter Tuning**"
   ]
  },
  {
   "cell_type": "code",
   "execution_count": 33,
   "metadata": {},
   "outputs": [
    {
     "name": "stdout",
     "output_type": "stream",
     "text": [
      "Fitting 5 folds for each of 18 candidates, totalling 90 fits\n",
      "Best Hyperparameters: {'C': 0.1, 'intercept_scaling': 0.1, 'loss': 'hinge'}\n"
     ]
    },
    {
     "name": "stderr",
     "output_type": "stream",
     "text": [
      "c:\\Users\\lnick\\AppData\\Local\\Programs\\Python\\Python311\\Lib\\site-packages\\sklearn\\svm\\_classes.py:32: FutureWarning: The default value of `dual` will change from `True` to `'auto'` in 1.5. Set the value of `dual` explicitly to suppress the warning.\n",
      "  warnings.warn(\n",
      "c:\\Users\\lnick\\AppData\\Local\\Programs\\Python\\Python311\\Lib\\site-packages\\sklearn\\svm\\_base.py:1250: ConvergenceWarning: Liblinear failed to converge, increase the number of iterations.\n",
      "  warnings.warn(\n"
     ]
    }
   ],
   "source": [
    "#hyperparameter tuning \n",
    "lsvm = LinearSVC(random_state=42)\n",
    "lsvm_param_grid = {\n",
    "    'C': [0.1, 1.0, 10],\n",
    "    'intercept_scaling': [0.1, 1, 10],\n",
    "    'loss': ['hinge', 'squared_hinge'],\n",
    "}\n",
    "\n",
    "\n",
    "lsvm_grid_search = GridSearchCV(estimator=lsvm, param_grid=lsvm_param_grid, cv=5, n_jobs=-1, verbose=2, scoring='f1')\n",
    "lsvm_grid_search.fit(X_train, y_train)\n",
    "print(\"Best Hyperparameters:\", lsvm_grid_search.best_params_)\n"
   ]
  },
  {
   "cell_type": "code",
   "execution_count": 34,
   "metadata": {},
   "outputs": [
    {
     "name": "stdout",
     "output_type": "stream",
     "text": [
      "LSVM\n",
      "Best Hyperparameters: {'C': 0.1, 'intercept_scaling': 0.1, 'loss': 'hinge'}\n",
      "accuracy:\t 0.670076726342711\n",
      "roc auc:\t 0.6630498612000855\n",
      "precision:\t 0.6167664670658682\n"
     ]
    },
    {
     "name": "stderr",
     "output_type": "stream",
     "text": [
      "c:\\Users\\lnick\\AppData\\Local\\Programs\\Python\\Python311\\Lib\\site-packages\\sklearn\\svm\\_classes.py:32: FutureWarning: The default value of `dual` will change from `True` to `'auto'` in 1.5. Set the value of `dual` explicitly to suppress the warning.\n",
      "  warnings.warn(\n",
      "c:\\Users\\lnick\\AppData\\Local\\Programs\\Python\\Python311\\Lib\\site-packages\\sklearn\\svm\\_base.py:1250: ConvergenceWarning: Liblinear failed to converge, increase the number of iterations.\n",
      "  warnings.warn(\n"
     ]
    }
   ],
   "source": [
    "#best lsvm:\n",
    "best_lsvm = LinearSVC(**lsvm_grid_search.best_params_)\n",
    "best_lsvm.fit(X_train, y_train)\n",
    "best_lsvm_pred = best_lsvm.predict(X_test)\n",
    "best_lsvm_score = precision_score(y_test, best_lsvm_pred)\n",
    "\n",
    "\n",
    "\n",
    "print(\"LSVM\")\n",
    "print(\"Best Hyperparameters:\", lsvm_grid_search.best_params_)\n",
    "print(\"accuracy:\\t\",accuracy_score(y_test, best_lsvm_pred))\n",
    "print(\"roc auc:\\t\",roc_auc_score(y_test, best_lsvm_pred))\n",
    "print(\"precision:\\t\", best_lsvm_score)\n"
   ]
  },
  {
   "cell_type": "markdown",
   "metadata": {},
   "source": [
    "## **XGBoost** ##"
   ]
  },
  {
   "cell_type": "markdown",
   "metadata": {},
   "source": [
    "#### **Hyperparameter Tuning**"
   ]
  },
  {
   "cell_type": "code",
   "execution_count": 35,
   "metadata": {},
   "outputs": [
    {
     "name": "stdout",
     "output_type": "stream",
     "text": [
      "Fitting 5 folds for each of 243 candidates, totalling 1215 fits\n",
      "Best Hyperparameters: {'colsample_bytree': 0.4, 'gamma': 1, 'max_depth': 1, 'min_child_weight': 40, 'n_estimators': 40}\n"
     ]
    }
   ],
   "source": [
    "#hyperparameter tuning \n",
    "xgboost = xgb.XGBClassifier(objective='binary:logistic', random_state=42)\n",
    "xgb_param_grid = {\n",
    "    #'n_estimators': [100, 250, 500], \n",
    "    'n_estimators': [40, 50, 60], \n",
    "    'max_depth': [1, 2, 3],      \n",
    "    'min_child_weight': [20, 30, 40],   \n",
    "    'colsample_bytree': [0.4, 0.5, 0.6],\n",
    "    'gamma': [0, 1, 2]       \n",
    "}\n",
    "\n",
    "\n",
    "xgb_grid_search = GridSearchCV(estimator=xgboost, param_grid=xgb_param_grid, cv=5, n_jobs=-1, verbose=2, scoring='f1')\n",
    "xgb_grid_search.fit(X_train, y_train)\n",
    "print(\"Best Hyperparameters:\", xgb_grid_search.best_params_)"
   ]
  },
  {
   "cell_type": "code",
   "execution_count": 36,
   "metadata": {},
   "outputs": [
    {
     "name": "stdout",
     "output_type": "stream",
     "text": [
      "XGBoost\n",
      "Best Hyperparameters: {'colsample_bytree': 0.4, 'gamma': 1, 'max_depth': 1, 'min_child_weight': 40, 'n_estimators': 40}\n",
      "accuracy:\t 0.6419437340153452\n",
      "roc auc:\t 0.6347159940209268\n",
      "precision:\t 0.5833333333333334\n"
     ]
    }
   ],
   "source": [
    "#best xgb:\n",
    "best_xgb = xgb.XGBClassifier(**xgb_grid_search.best_params_)\n",
    "best_xgb.fit(X_train, y_train)\n",
    "best_xgb_pred = best_xgb.predict(X_test)\n",
    "best_xgb_score = precision_score(y_test, best_xgb_pred)\n",
    "\n",
    "\n",
    "\n",
    "print(\"XGBoost\")\n",
    "print(\"Best Hyperparameters:\", xgb_grid_search.best_params_)\n",
    "print(\"accuracy:\\t\",accuracy_score(y_test, best_xgb_pred))\n",
    "print(\"roc auc:\\t\",roc_auc_score(y_test, best_xgb_pred))\n",
    "print(\"precision:\\t\", best_xgb_score)\n"
   ]
  },
  {
   "cell_type": "markdown",
   "metadata": {},
   "source": [
    "# **EBM has a good balance between performance and interpretability**"
   ]
  }
 ],
 "metadata": {
  "kernelspec": {
   "display_name": "Python 3",
   "language": "python",
   "name": "python3"
  },
  "language_info": {
   "codemirror_mode": {
    "name": "ipython",
    "version": 3
   },
   "file_extension": ".py",
   "mimetype": "text/x-python",
   "name": "python",
   "nbconvert_exporter": "python",
   "pygments_lexer": "ipython3",
   "version": "3.11.4"
  }
 },
 "nbformat": 4,
 "nbformat_minor": 2
}
