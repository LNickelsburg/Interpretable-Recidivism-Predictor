{
 "cells": [
  {
   "cell_type": "markdown",
   "metadata": {},
   "source": [
    "**variance bullshit**"
   ]
  },
  {
   "cell_type": "code",
   "execution_count": null,
   "metadata": {},
   "outputs": [],
   "source": []
  },
  {
   "cell_type": "markdown",
   "metadata": {},
   "source": [
    "**Standardize**"
   ]
  },
  {
   "cell_type": "code",
   "execution_count": null,
   "metadata": {},
   "outputs": [],
   "source": [
    "#scale training set, then use the same variables to scale the test set\n",
    "scaler = StandardScaler()\n",
    "train_std = scaler.fit_transform(X_train)\n",
    "test_std = scaler.transform(X_test)"
   ]
  },
  {
   "cell_type": "code",
   "execution_count": null,
   "metadata": {},
   "outputs": [],
   "source": [
    "### .CSV FILES FOR TRAINING AND TESTING ###\n",
    "train_std = pd.DataFrame(train_std, columns=features)\n",
    "test_std = pd.DataFrame(test_std, columns=features)\n",
    "y_train = y_train.reset_index(drop=True)\n",
    "y_test = y_test.reset_index(drop=True)\n",
    "\n",
    "\n",
    "train_data = pd.concat([train_std, y_train], axis=1)\n",
    "test_data = pd.concat([test_std, y_test], axis=1)\n",
    "train_data.to_csv('standardized_training.csv', index=False)\n",
    "test_data.to_csv('standardized_testing.csv', index=False)"
   ]
  },
  {
   "cell_type": "markdown",
   "metadata": {},
   "source": [
    "**dimensionality reduction**"
   ]
  },
  {
   "cell_type": "code",
   "execution_count": null,
   "metadata": {},
   "outputs": [],
   "source": [
    "### DIMENSIONALITY REDUCTION ###\n",
    "#tsne\n",
    "import numpy as np\n",
    "import matplotlib.pyplot as plt\n",
    "from matplotlib import cm\n",
    "from sklearn.manifold import TSNE\n",
    "X = train_std\n",
    "y = y_train['general_two_year']\n",
    "\n",
    "\n",
    "\n",
    "tsne = TSNE(n_components=2, perplexity=30, random_state=42)\n",
    "X_tsne = tsne.fit_transform(X)\n",
    "plt.scatter(X_tsne[:, 0], X_tsne[:, 1], c=y, alpha=0.7)\n",
    "plt.colorbar(ticks=range(10))\n",
    "plt.title('t-SNE Visualization')\n",
    "plt.show()\n"
   ]
  }
 ],
 "metadata": {
  "language_info": {
   "name": "python"
  }
 },
 "nbformat": 4,
 "nbformat_minor": 2
}
